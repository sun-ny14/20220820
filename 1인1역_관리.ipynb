{
  "nbformat": 4,
  "nbformat_minor": 0,
  "metadata": {
    "colab": {
      "name": "1인1역 관리.ipynb",
      "provenance": [],
      "authorship_tag": "ABX9TyO6fzI1KxBiQo8rOHiTKTUm",
      "include_colab_link": true
    },
    "kernelspec": {
      "name": "python3",
      "display_name": "Python 3"
    },
    "language_info": {
      "name": "python"
    }
  },
  "cells": [
    {
      "cell_type": "markdown",
      "metadata": {
        "id": "view-in-github",
        "colab_type": "text"
      },
      "source": [
        "<a href=\"https://colab.research.google.com/github/sun-ny14/20220820/blob/main/1%EC%9D%B81%EC%97%AD_%EA%B4%80%EB%A6%AC.ipynb\" target=\"_parent\"><img src=\"https://colab.research.google.com/assets/colab-badge.svg\" alt=\"Open In Colab\"/></a>"
      ]
    },
    {
      "cell_type": "markdown",
      "source": [
        "#  1인 1역 관리하기 \n",
        "## 1인 1역 선발 및 확인을 위한 간단한 프로그램을 만들고자 함. \n",
        "\n",
        "## 고려할 점\n",
        "1.   매 달 첫째 주에 역할이 바뀜\n",
        "2.   학생들의 이름을 입력하면 역할을 바로 확인할 수 있도록 \n",
        "\n"
      ],
      "metadata": {
        "id": "fHoCknjaUFCZ"
      }
    },
    {
      "cell_type": "code",
      "execution_count": 49,
      "metadata": {
        "colab": {
          "base_uri": "https://localhost:8080/"
        },
        "id": "_ljyDLouT7oa",
        "outputId": "6dcae5b6-f1cf-415a-98da-db2c85c050fb"
      },
      "outputs": [
        {
          "output_type": "stream",
          "name": "stdout",
          "text": [
            "['바닥쓸기1', '바닥쓸기2', '청소확인1', '수업알리미', '줄지키미', '바닥닦기1', '우리반비서', '청소확인2', '우유담당', '학습도우미', '바닥닦기3', '바닥쓸기3', '칠판닦기', '바닥닦기2']\n",
            "['마동석', '송중기', '하지원', '유해진', '최민식', '배두나', '고아성', '설경구', '하정우', '송강호', '이정재', '류승룡', '이정은', '이경영']\n"
          ]
        }
      ],
      "source": [
        "# 1인 1역 선발\n",
        "data1 = open('1인1역.txt')\n",
        "data2 = open('학생명단.txt')\n",
        "\n",
        "import time \n",
        "import random\n",
        "\n",
        "# 역할 배정하기\n",
        "# 역할과 이름의 순서들을 랜덤하게 섞음.\n",
        "role = []\n",
        "for row in data1 :\n",
        "  role.append(row.strip())\n",
        "  random.shuffle(role)\n",
        "print(role)\n",
        "\n",
        "student= []\n",
        "for row in data2 :\n",
        "  student.append(row.strip())\n",
        "  random.shuffle(student)\n",
        "print(student)\n"
      ]
    },
    {
      "cell_type": "code",
      "source": [
        "# 학생을 key 값으로 역할을 value 값으로 설정하여 dictionary를 만듦.  \n",
        "dictionary = dict(zip(student, role))\n",
        "print(dictionary)"
      ],
      "metadata": {
        "colab": {
          "base_uri": "https://localhost:8080/"
        },
        "id": "npwiRj07k3nR",
        "outputId": "fed29326-85d0-4f99-80d3-6af4b10bd527"
      },
      "execution_count": 48,
      "outputs": [
        {
          "output_type": "stream",
          "name": "stdout",
          "text": [
            "{'이정재': '우유담당', '송강호': '바닥닦기2', '류승룡': '바닥닦기1', '이경영': '청소확인1', '하정우': '줄지키미', '최민식': '칠판닦기', '송중기': '우리반비서', '배두나': '청소확인2', '설경구': '바닥쓸기3', '마동석': '바닥쓸기2', '고아성': '바닥닦기3', '이정은': '수업알리미', '하지원': '학습도우미', '유해진': '바닥쓸기1'}\n"
          ]
        }
      ]
    },
    {
      "cell_type": "code",
      "source": [
        "# 학생들이 각자의 역할을 확인할 수 있도록 dictionary를 발표\n",
        "for key in dictionary :\n",
        "    print(key + ' 학생은 ' + dictionary[key] + ' 역할입니다.' )"
      ],
      "metadata": {
        "colab": {
          "base_uri": "https://localhost:8080/"
        },
        "id": "HBz_JUzHleLS",
        "outputId": "fde98a16-bf56-4a6e-8dad-16cc4154c546"
      },
      "execution_count": 51,
      "outputs": [
        {
          "output_type": "stream",
          "name": "stdout",
          "text": [
            "이정재 학생은 우유담당 역할입니다.\n",
            "송강호 학생은 바닥닦기2 역할입니다.\n",
            "류승룡 학생은 바닥닦기1 역할입니다.\n",
            "이경영 학생은 청소확인1 역할입니다.\n",
            "하정우 학생은 줄지키미 역할입니다.\n",
            "최민식 학생은 칠판닦기 역할입니다.\n",
            "송중기 학생은 우리반비서 역할입니다.\n",
            "배두나 학생은 청소확인2 역할입니다.\n",
            "설경구 학생은 바닥쓸기3 역할입니다.\n",
            "마동석 학생은 바닥쓸기2 역할입니다.\n",
            "고아성 학생은 바닥닦기3 역할입니다.\n",
            "이정은 학생은 수업알리미 역할입니다.\n",
            "하지원 학생은 학습도우미 역할입니다.\n",
            "유해진 학생은 바닥쓸기1 역할입니다.\n"
          ]
        }
      ]
    },
    {
      "cell_type": "code",
      "source": [
        "# 학생의 1인 1역을 확인하고 싶을 때\n",
        "key = input('학생의 이름을 입력하세요.')\n",
        "if key in dictionary :\n",
        "    print(key + ' 학생의 역할은 ' + dictionary[key] + ' 입니다.')\n",
        "else :\n",
        "    print('학생의 이름을 확인해주세요.')"
      ],
      "metadata": {
        "colab": {
          "base_uri": "https://localhost:8080/"
        },
        "id": "hmEVQURHmnfy",
        "outputId": "1485ef7a-82f1-4a70-ba4a-18a254b4febb"
      },
      "execution_count": 55,
      "outputs": [
        {
          "output_type": "stream",
          "name": "stdout",
          "text": [
            "학생의 이름을 입력하세요.설경구\n",
            "설경구 학생의 역할은 바닥쓸기3 입니다.\n"
          ]
        }
      ]
    }
  ]
}